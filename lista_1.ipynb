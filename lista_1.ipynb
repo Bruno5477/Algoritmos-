{
 "cells": [
  {
   "cell_type": "markdown",
   "metadata": {},
   "source": [
    "### Lista 1\n"
   ]
  },
  {
   "cell_type": "markdown",
   "metadata": {},
   "source": [
    "###### 1. Olá, Mundo! Escreva um programa que imprime \"Olá, Mundo!\" na tela."
   ]
  },
  {
   "cell_type": "code",
   "execution_count": 1,
   "metadata": {},
   "outputs": [
    {
     "name": "stdout",
     "output_type": "stream",
     "text": [
      "Olá, Mundo!\n"
     ]
    }
   ],
   "source": [
    "print('Olá, Mundo!')"
   ]
  },
  {
   "cell_type": "markdown",
   "metadata": {},
   "source": [
    "\n",
    "###### 2. Soma de Dois Números: Peça ao usuário para digitar dois números e imprima a soma deles."
   ]
  },
  {
   "cell_type": "code",
   "execution_count": 6,
   "metadata": {},
   "outputs": [
    {
     "name": "stdout",
     "output_type": "stream",
     "text": [
      "A soma dos dois número é 17.0 \n"
     ]
    }
   ],
   "source": [
    "n1 = float(input(\"Insira o primeiro número: \"))\n",
    "n2 = float(input(\"Insira o segundo número: \"))\n",
    "\n",
    "print(f\"A soma dos dois número é {n1 + n2} \")"
   ]
  },
  {
   "cell_type": "markdown",
   "metadata": {},
   "source": [
    "###### 3. Verificar Par ou Ímpar. Peça ao usuário para digitar um número inteiro e informe se o número é par ou ímpar."
   ]
  },
  {
   "cell_type": "code",
   "execution_count": 9,
   "metadata": {},
   "outputs": [
    {
     "name": "stdout",
     "output_type": "stream",
     "text": [
      "O número inserido é ímpar.\n"
     ]
    }
   ],
   "source": [
    "n = int(input(\"Insira um número inteiro: \"))\n",
    "\n",
    "if n % 2 == 0:\n",
    "    print(\"O número inserido é par\")\n",
    "else:\n",
    "    print(\"O número inserido é ímpar.\")\n"
   ]
  },
  {
   "cell_type": "markdown",
   "metadata": {},
   "source": [
    "###### 4. Calculadora Simples. Crie um programa que peça dois números e a operação desejada (+, -, *, /) e exiba o resultado."
   ]
  },
  {
   "cell_type": "code",
   "execution_count": 13,
   "metadata": {},
   "outputs": [
    {
     "name": "stdout",
     "output_type": "stream",
     "text": [
      "operação inválida!!!\n"
     ]
    }
   ],
   "source": [
    "n1 = float(input(\"Insira o primeiro número: \"))\n",
    "n2 = float(input(\"Insira o segundo número: \"))\n",
    "\n",
    "operacao = input(\"Informa qual a operação deseja realizar (+, -, *, /): \")\n",
    "\n",
    "if operacao == \"+\":\n",
    "    print(f\"A soma dos dois número é {n1 + n2} \")\n",
    "elif operacao == \"-\":\n",
    "    print(f\"A subtração dos dois número é {n1 - n2} \")\n",
    "elif operacao == \"/\":\n",
    "    print(f\"A divisão dos dois número é {n1 / n2} \")\n",
    "elif operacao == \"*\":\n",
    "    print(f\"A multiplicação dos dois número é {n1 * n2} \")\n",
    "else:\n",
    "    print(\"operação inválida!!!\")\n",
    "\n"
   ]
  },
  {
   "cell_type": "markdown",
   "metadata": {},
   "source": [
    "###### 5. Média de Notas. Peça ao usuário para digitar três notas e calcule a média delas."
   ]
  },
  {
   "cell_type": "code",
   "execution_count": 15,
   "metadata": {},
   "outputs": [
    {
     "name": "stdout",
     "output_type": "stream",
     "text": [
      "A média das notas é 6.67\n"
     ]
    }
   ],
   "source": [
    "n1 = float(input(\"Insira o primeira nota: \"))\n",
    "n2 = float(input(\"Insira o segunda nota: \"))\n",
    "n3 = float(input(\"Insira o terceira nota: \"))\n",
    "\n",
    "print(f\"A média das notas é {(n1 + n2 + n3)/3 :.2f}\")\n"
   ]
  },
  {
   "cell_type": "markdown",
   "metadata": {},
   "source": [
    "######  6. Converter Celsius para Fahrenheit. Escreva um programa que converta uma temperatura de graus Celsius para Fahrenheit."
   ]
  },
  {
   "cell_type": "code",
   "execution_count": 18,
   "metadata": {},
   "outputs": [
    {
     "name": "stdout",
     "output_type": "stream",
     "text": [
      "A temperatur em graus Fahrenheit é 122.00°F\n"
     ]
    }
   ],
   "source": [
    "celsius = float(input(\"Insira a temperatura em graus Celsius: \"))\n",
    "\n",
    "print(f'A temperatur em graus Fahrenheit é {celsius*(9/5) + 32 :.2f}°F')\n"
   ]
  },
  {
   "cell_type": "markdown",
   "metadata": {},
   "source": [
    "###### 7. Fatorial de um Número. Peça ao usuário para digitar um número e calcule o fatorial desse número."
   ]
  },
  {
   "cell_type": "code",
   "execution_count": 21,
   "metadata": {},
   "outputs": [
    {
     "name": "stdout",
     "output_type": "stream",
     "text": [
      "o Fatorial do 10 é 3628800\n"
     ]
    }
   ],
   "source": [
    "def fatorial(n):\n",
    "    if n == 1:\n",
    "        return 1\n",
    "    else:\n",
    "        return n * fatorial(n-1)\n",
    "\n",
    "numero = int(input(\"Insira um número\"))\n",
    "\n",
    "print(f\"o Fatorial do {numero} é {fatorial(numero)}\")\n"
   ]
  },
  {
   "cell_type": "markdown",
   "metadata": {},
   "source": [
    "###### 8. Contagem de Números Ímpares \n",
    "###### Escreva um programa que conta e imprime todos os números ímpares entre 1 e 100."
   ]
  },
  {
   "cell_type": "code",
   "execution_count": 90,
   "metadata": {},
   "outputs": [
    {
     "name": "stdout",
     "output_type": "stream",
     "text": [
      "1 3 5 7 9 11 13 15 17 19 21 23 25 27 29 31 33 35 37 39 41 43 45 47 49 51 53 55 57 59 61 63 65 67 69 71 73 75 77 79 81 83 85 87 89 91 93 95 97 99 \n",
      "A contagem de números ímpares entre 1 e 100 é igual à 50.\n"
     ]
    }
   ],
   "source": [
    "cont = 0\n",
    "\n",
    "for i in range(1,100,2):\n",
    "    print(i, end= ' ')\n",
    "    cont += 1\n",
    "\n",
    "print(f\"\\nA contagem de números ímpares entre 1 e 100 é igual à {cont}.\")"
   ]
  },
  {
   "cell_type": "markdown",
   "metadata": {},
   "source": [
    "######  9. Verificar Número Primo . Peça ao usuário para digitar um número e verifique se ele é primo."
   ]
  },
  {
   "cell_type": "code",
   "execution_count": 113,
   "metadata": {},
   "outputs": [
    {
     "name": "stdout",
     "output_type": "stream",
     "text": [
      "6 não é primo!\n"
     ]
    }
   ],
   "source": [
    "n = int(input('Insira um número inteiro'))\n",
    "\n",
    "primo = True\n",
    "for i in range(2, n):\n",
    "    if n % i == 0:\n",
    "        primo = False\n",
    "        print(f\"{n} não é primo!\")\n",
    "        break\n",
    "if primo:\n",
    "    print(f\"{n} é primo!\")\n",
    "\n",
    "\n"
   ]
  },
  {
   "cell_type": "markdown",
   "metadata": {},
   "source": [
    "###### 10. Inverter uma String \n",
    "###### Peça ao usuário para digitar uma string e imprima essa string de forma invertida."
   ]
  },
  {
   "cell_type": "code",
   "execution_count": 94,
   "metadata": {},
   "outputs": [
    {
     "name": "stdout",
     "output_type": "stream",
     "text": [
      "A string inserida é exemplo, o resultado da string invertida é olpmexe\n"
     ]
    }
   ],
   "source": [
    "string = input(\"Insira uma string: \")\n",
    "\n",
    "print(f\"A string inserida é {string}, o resultado da string invertida é {string[::-1]}\")"
   ]
  },
  {
   "cell_type": "markdown",
   "metadata": {},
   "source": [
    "###### 11. Tabuada .Peça ao usuário para digitar um número e imprima a tabuada desse número de 1 a 10."
   ]
  },
  {
   "cell_type": "code",
   "execution_count": 87,
   "metadata": {},
   "outputs": [
    {
     "name": "stdout",
     "output_type": "stream",
     "text": [
      "10 X 1 = 10\n",
      "10 X 2 = 20\n",
      "10 X 3 = 30\n",
      "10 X 4 = 40\n",
      "10 X 5 = 50\n",
      "10 X 6 = 60\n",
      "10 X 7 = 70\n",
      "10 X 8 = 80\n",
      "10 X 9 = 90\n",
      "10 X 10 = 100\n"
     ]
    }
   ],
   "source": [
    "numero = int(input(\"Insira uma número para ver a tabuada dele de 1 ao 10 \"))\n",
    "\n",
    "for i in range(1, 11):\n",
    "    print(f\"{numero} X {i} = {numero * i}\")"
   ]
  },
  {
   "cell_type": "markdown",
   "metadata": {},
   "source": [
    "###### 12. Contar Vogais em uma String \n",
    "###### Escreva um programa que conte o número de vogais em uma string fornecida pelo usuário."
   ]
  },
  {
   "cell_type": "code",
   "execution_count": 102,
   "metadata": {},
   "outputs": [
    {
     "name": "stdout",
     "output_type": "stream",
     "text": [
      "O número de vogais da string Bruno é 2\n"
     ]
    }
   ],
   "source": [
    "string = input(\"Insira uma string: \")\n",
    "vogais = 'aeiou'\n",
    "qtd_vogais = 0\n",
    "for i in string.lower():\n",
    "    if i in vogais:\n",
    "        qtd_vogais += 1\n",
    "\n",
    "print(f\"O número de vogais da string {string } é {qtd_vogais}\") # 5"
   ]
  },
  {
   "cell_type": "markdown",
   "metadata": {},
   "source": [
    "###### 13.Soma dos Elementos de uma Lista. Crie uma lista de números e escreva um programa que some todos os elementos dessa lista.\n"
   ]
  },
  {
   "cell_type": "code",
   "execution_count": 108,
   "metadata": {},
   "outputs": [
    {
     "name": "stdout",
     "output_type": "stream",
     "text": [
      "A soma dos números da litas é igual à 330.\n"
     ]
    }
   ],
   "source": [
    "lista = [25, 10, 81, 19, 9, 20, 22, 27, 30, 87 ]\n",
    "soma = 0\n",
    "\n",
    "for i in lista:\n",
    "    soma += i\n",
    "\n",
    "print(f'A soma dos números da litas é igual à {soma}.')"
   ]
  },
  {
   "cell_type": "markdown",
   "metadata": {},
   "source": [
    "###### 14. Encontrar o Maior Número em uma Lista. Peça ao usuário para digitar uma lista de números e exiba o maior número dessa lista."
   ]
  },
  {
   "cell_type": "code",
   "execution_count": 109,
   "metadata": {},
   "outputs": [
    {
     "name": "stdout",
     "output_type": "stream",
     "text": [
      "O maior número é 25\n"
     ]
    }
   ],
   "source": [
    "from math import inf\n",
    "lista = []\n",
    "tamanho = int(input(\"Insira o tamanho da lista\"))\n",
    "for i in range(tamanho):\n",
    "    elemento = int(input(\"Entre com os elementos da lista: \"))\n",
    "    lista.append(elemento)\n",
    "\n",
    "maior_numero = -inf\n",
    "for numero in lista:\n",
    "    if numero > maior_numero:\n",
    "        maior_numero = numero\n",
    "print(f\"O maior número é {maior_numero}\")"
   ]
  }
 ],
 "metadata": {
  "kernelspec": {
   "display_name": "base",
   "language": "python",
   "name": "python3"
  },
  "language_info": {
   "codemirror_mode": {
    "name": "ipython",
    "version": 3
   },
   "file_extension": ".py",
   "mimetype": "text/x-python",
   "name": "python",
   "nbconvert_exporter": "python",
   "pygments_lexer": "ipython3",
   "version": "3.9.7"
  }
 },
 "nbformat": 4,
 "nbformat_minor": 2
}
